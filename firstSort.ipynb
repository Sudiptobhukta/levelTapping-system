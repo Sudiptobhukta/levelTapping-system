{
 "cells": [
  {
   "cell_type": "markdown",
   "metadata": {},
   "source": [
    "block 1 to 6 is api integration"
   ]
  },
  {
   "cell_type": "code",
   "execution_count": 1,
   "metadata": {},
   "outputs": [],
   "source": [
    "import pandas as pd\n"
   ]
  },
  {
   "cell_type": "code",
   "execution_count": 2,
   "metadata": {},
   "outputs": [],
   "source": [
    "from kiteconnect import KiteConnect\n",
    "from kiteconnect import KiteTicker\n",
    "import datetime\n",
    "import secret"
   ]
  },
  {
   "cell_type": "code",
   "execution_count": 3,
   "metadata": {},
   "outputs": [],
   "source": [
    "api_key = secret.api_key\n",
    "api_secret = secret.api_secret\n",
    "\n",
    "kite = KiteConnect(api_key=api_key)"
   ]
  },
  {
   "cell_type": "code",
   "execution_count": 4,
   "metadata": {},
   "outputs": [
    {
     "name": "stdout",
     "output_type": "stream",
     "text": [
      "https://kite.zerodha.com/connect/login?api_key=x5ugrx91yexerba1&v=3\n"
     ]
    }
   ],
   "source": [
    "print(kite.login_url())"
   ]
  },
  {
   "cell_type": "code",
   "execution_count": 7,
   "metadata": {},
   "outputs": [
    {
     "name": "stdout",
     "output_type": "stream",
     "text": [
      "capjCwAeE8DIFiOdQLDVLrC58W7GkY8L\n"
     ]
    }
   ],
   "source": [
    "data = kite.generate_session(\"pZT2M7vC9yM9wH6h89T70DNDQ2AjifMM\", api_secret=api_secret)\n",
    "kite.set_access_token(data[\"access_token\"])\n",
    "access_token = data[\"access_token\"]\n",
    "kws = KiteTicker(api_key, access_token)\n",
    "print(data[\"access_token\"])"
   ]
  },
  {
   "cell_type": "markdown",
   "metadata": {},
   "source": [
    "CALCULATE ALL THE LEVELS OF THE STOCKS (SWING HIGH AND SWING LOW)"
   ]
  },
  {
   "cell_type": "code",
   "execution_count": 77,
   "metadata": {},
   "outputs": [],
   "source": [
    "def swingTop_bottom(monthly_data):\n",
    "    data=[]\n",
    "    length = len(monthly_data)\n",
    "\n",
    "# n = int(inpucollectiont())  this will be used for specifying the counter for swing top\n",
    "    for i in range(2,length-2):\n",
    "        if ((monthly_data['high'][i] > monthly_data['high'][i+1]) and (monthly_data['high'][i] > monthly_data['high'][i+2]) and (monthly_data['high'] [i]> monthly_data['high'][i-1]) and (monthly_data['high'][i] > monthly_data['high'][i-2])):\n",
    "            data.append(float(monthly_data['high'][i]))\n",
    "         \n",
    "        if ((monthly_data['low'][i] < monthly_data['low'][i+1]) and (monthly_data['low'][i] < monthly_data['low'][i+2]) and (monthly_data['low'][i] < monthly_data['low'][i-1]) and (monthly_data['low'][i] < monthly_data['low'][i-2])):\n",
    "            data.append(float(monthly_data['low'][i]))\n",
    "\n",
    "    return data"
   ]
  },
  {
   "cell_type": "markdown",
   "metadata": {},
   "source": [
    "FUNCTION FOR CALCULATING THE NUMBER OF TAPS"
   ]
  },
  {
   "cell_type": "code",
   "execution_count": 78,
   "metadata": {},
   "outputs": [],
   "source": [
    "def filterdTop(swingList,filteredata,levelAllowance):\n",
    "    swingLen = len(swingList)\n",
    "    filterdataLen = len(filteredata)\n",
    "    # check=[]\n",
    "    data ={}\n",
    "    for i in range(swingLen):\n",
    "        price =swingList[i]\n",
    "        # print(price)\n",
    "        percentage = ((price/100)*levelAllowance)\n",
    "        subPercentage = price - percentage\n",
    "        addPercentage = price + percentage\n",
    "        # print(subPercentage,addPercentage)\n",
    "        key = price\n",
    "        # check.append('END')\n",
    "        if key not in data:\n",
    "            data[key]=0\n",
    "        for j in range(filterdataLen):\n",
    "            if ((float(filteredata['open'][j]) <= addPercentage) and (float(filteredata['open'][j]) >= subPercentage)):\n",
    "                data[key]+=1\n",
    "                # check.append([(filteredata['date'][j]),'open',float(filteredata['open'][j])])\n",
    "            elif ((float(filteredata['high'][j]) <= addPercentage) and (float(filteredata['high'][j]) >= subPercentage)):\n",
    "                data[key]+=1\n",
    "                # check.append([(filteredata['date'][j]),'high',float(filteredata['high'][j])])\n",
    "            elif ((float(filteredata['low'][j]) <= addPercentage) and (float(filteredata['low'][j]) >= subPercentage)):\n",
    "                data[key]+=1\n",
    "                # check.append([(filteredata['date'][j]),'low',float(filteredata['low'][j])])\n",
    "            elif ((float(filteredata['close'][j]) <= addPercentage) and (float(filteredata['close'][j]) >= subPercentage)):\n",
    "                data[key]+=1\n",
    "                # check.append([(filteredata['date'][j]),'close',float(filteredata['close'][j])])\n",
    "    \n",
    "    return data"
   ]
  },
  {
   "cell_type": "markdown",
   "metadata": {},
   "source": [
    "levels percentage"
   ]
  },
  {
   "cell_type": "code",
   "execution_count": 79,
   "metadata": {},
   "outputs": [],
   "source": [
    "def percentage(close_price,percent_value):\n",
    "    percnt = (close_price/100)*percent_value\n",
    "    addprcntge = close_price+percnt\n",
    "    subprcntge = close_price-percnt\n",
    "    return addprcntge,subprcntge\n",
    "       "
   ]
  },
  {
   "cell_type": "markdown",
   "metadata": {},
   "source": [
    "function for first short listing of the stocks on the basis of 0.5%"
   ]
  },
  {
   "cell_type": "code",
   "execution_count": 95,
   "metadata": {},
   "outputs": [],
   "source": [
    "\n",
    "\n",
    "def first_shortlist(symbol,addpercentage,subpercentage,ohlcCompare,close_data):\n",
    "    stock_dict ={}\n",
    "    stock_dict[symbol]=(set(),close_data)\n",
    "    st = list(ohlcCompare.keys())\n",
    "    close_add_percentage, close_sub_percentage = percentage(close_data, 4)\n",
    "    for levels in range(len(st)):\n",
    "       \n",
    "        if (subpercentage <= float(st[levels]) <= addpercentage):\n",
    "            \n",
    "            if levels + 2 < len(st) and levels - 2 >= 0:\n",
    "                stock_dict[symbol][0].add((st[levels],ohlcCompare[st[levels]])) \n",
    "                if levels + 2 < len(st) and close_sub_percentage <= float(st[levels + 2]) <= close_add_percentage: \n",
    "                    stock_dict[symbol][0].add((st[levels + 2],ohlcCompare[st[levels + 2]])) \n",
    "                if levels + 1 < len(st) and close_sub_percentage <= float(st[levels + 1]) <= close_add_percentage: \n",
    "                    stock_dict[symbol][0].add((st[levels + 1],ohlcCompare[st[levels + 1]])) \n",
    "                if levels - 1 >= 0 and close_sub_percentage <= float(st[levels - 1]) <= close_add_percentage: \n",
    "                    stock_dict[symbol][0].add((st[levels - 1],ohlcCompare[st[levels -1]])) \n",
    "                if levels - 2 >= 0 and close_sub_percentage <= float(st[levels - 2]) <= close_add_percentage: \n",
    "                    stock_dict[symbol][0].add((st[levels - 2],ohlcCompare[st[levels -2]]))\n",
    "                \n",
    "            elif levels + 2 < len(st): \n",
    "                stock_dict[symbol][0].add((st[levels],ohlcCompare[st[levels]]))\n",
    "                if levels + 2 < len(st) and close_sub_percentage <= float(st[levels + 2]) <= close_add_percentage: \n",
    "                    stock_dict[symbol][0].add((st[levels + 2],ohlcCompare[st[levels + 2]])) \n",
    "                if levels + 1 < len(st) and close_sub_percentage <= float(st[levels + 1]) <= close_add_percentage: \n",
    "                    stock_dict[symbol][0].add((st[levels + 1],ohlcCompare[st[levels + 1]])) \n",
    "                 \n",
    "\n",
    "            elif levels - 2 >= 0: \n",
    "                stock_dict[symbol][0].add((st[levels],ohlcCompare[st[levels]])) \n",
    "                if levels - 1 >= 0 and close_sub_percentage <= float(st[levels - 1]) <= close_add_percentage: \n",
    "                    stock_dict[symbol][0].add((st[levels - 1],ohlcCompare[st[levels - 1]])) \n",
    "                if levels - 2 >= 0 and close_sub_percentage <= float(st[levels - 2]) <= close_add_percentage: \n",
    "                    stock_dict[symbol][0].add((st[levels - 2],ohlcCompare[st[levels - 2]])) \n",
    "\n",
    "            elif levels - 1 >= 0 and levels + 2 < len(st): \n",
    "                stock_dict[symbol][0].add((st[levels],ohlcCompare[st[levels]]))\n",
    "                if levels + 2 < len(st) and close_sub_percentage <= float(st[levels + 2]) <= close_add_percentage: \n",
    "                    stock_dict[symbol][0].add((st[levels + 2],ohlcCompare[st[levels + 2]])) \n",
    "                if levels + 1 < len(st) and close_sub_percentage <= float(st[levels + 1]) <= close_add_percentage: \n",
    "                    stock_dict[symbol][0].add((st[levels + 1],ohlcCompare[st[levels + 1]])) \n",
    "                if levels - 1 >= 0 and close_sub_percentage <= float(st[levels - 1]) <= close_add_percentage: \n",
    "                    stock_dict[symbol][0].add((st[levels - 1],ohlcCompare[st[levels - 1]])) \n",
    "                 \n",
    "                \n",
    "\n",
    "            elif levels + 1 < len(st) and levels - 2 >= 0: \n",
    "                stock_dict[symbol][0].add((st[levels],ohlcCompare[st[levels]]))\n",
    "                if levels + 1 < len(st) and close_sub_percentage <= float(st[levels + 1]) <= close_add_percentage: \n",
    "                    stock_dict[symbol][0].add((st[levels + 1],ohlcCompare[st[levels + 1]])) \n",
    "                if levels - 1 >= 0 and close_sub_percentage <= float(st[levels - 1]) <= close_add_percentage: \n",
    "                    stock_dict[symbol][0].add((st[levels - 1],ohlcCompare[st[levels - 1]])) \n",
    "                if levels - 2 >= 0 and close_sub_percentage <= float(st[levels - 2]) <= close_add_percentage: \n",
    "                    stock_dict[symbol][0].add((st[levels - 2],ohlcCompare[st[levels - 2]]))\n",
    "                \n",
    "\n",
    "   \n",
    "    if stock_dict[symbol][0]:\n",
    "        return stock_dict\n",
    "    \n",
    "    "
   ]
  },
  {
   "cell_type": "markdown",
   "metadata": {},
   "source": [
    "this function take out the levels and there taps and this function will run at the end of the week"
   ]
  },
  {
   "cell_type": "code",
   "execution_count": null,
   "metadata": {},
   "outputs": [],
   "source": [
    "import json\n",
    "watchlist =\"nifty500\"\n",
    "timeframe = 'M'\n",
    "instruments = kite.instruments(\"NSE\")\n",
    "nifty50 =  pd.read_csv(f\"E:\\\\TRADING KARNAL\\\\OHLCcompare\\\\watchList\\\\{watchlist}.csv\")\n",
    "errorStockList=[]\n",
    "levelTapping={}\n",
    "\n",
    "for symbols in nifty50['Symbol']:\n",
    "    try:\n",
    "        instrument_token = next(item[\"instrument_token\"] for item in instruments if item[\"tradingsymbol\"] == symbols)\n",
    "        to_date = datetime.date.today()\n",
    "        from_date = \"2019-10-01\"\n",
    "        data = kite.historical_data(instrument_token, from_date, to_date, \"day\")\n",
    "        df = pd.DataFrame(data)\n",
    "        df['date'] = pd.to_datetime(df['date']).dt.to_period(timeframe) # WE MADE CHANGES FORM 'M' TO 'W' WHICH CONVERTED INTO WEEKS FROM MONTHS\n",
    "\n",
    "        monthly_data = df.groupby('date').agg({\n",
    "            'open': 'first',\n",
    "            'high': 'max',\n",
    "            'low': 'min',\n",
    "            'close': 'last',\n",
    "            'volume': 'sum'\n",
    "        }).reset_index()\n",
    "\n",
    "        st = swingTop_bottom(monthly_data) # important levels for each stock\n",
    "        ohlcCompare = filterdTop(st,df,levelAllowance=0.15)\n",
    "        levelTapping[symbols]=ohlcCompare\n",
    "        # print(levelTapping)\n",
    "        \n",
    "    except StopIteration:\n",
    "        errorStockList.append(symbols)\n",
    "        continue\n",
    "print(levelTapping)\n",
    "jasonfile = {k: json.dumps(v) for k,v in levelTapping.items()}\n",
    "df= pd.DataFrame(list(jasonfile.items()),columns=[\"stocks\",\"levels\"])\n",
    "df.to_csv(\"E:\\\\TRADING KARNAL\\\\OHLCcompare\\\\otherImp\\\\levelsTaps.csv\",index=False)"
   ]
  },
  {
   "cell_type": "markdown",
   "metadata": {},
   "source": [
    "This function will sort the stocks on the basis of intraday(0.5) or positional(1) and on the basis of taps in descending order"
   ]
  },
  {
   "cell_type": "code",
   "execution_count": 105,
   "metadata": {},
   "outputs": [
    {
     "name": "stdout",
     "output_type": "stream",
     "text": [
      "['COCHINSHIP']\n",
      "1\n"
     ]
    }
   ],
   "source": [
    "from datetime import date\n",
    "import ast\n",
    "today = date.today()\n",
    "instruments = kite.instruments(\"NSE\")\n",
    "levelAllowance = 0.5\n",
    "nifty50 =  pd.read_csv(f\"E:\\\\TRADING KARNAL\\\\OHLCcompare\\\\watchList\\\\{watchlist}.csv\")\n",
    "leveltap = pd.read_csv(\"E:\\\\TRADING KARNAL\\\\OHLCcompare\\\\otherImp\\\\levelsTaps.csv\")\n",
    "leveltap['levels'] = leveltap['levels'].apply(json.loads)\n",
    "i=0\n",
    "first_sort= {}\n",
    "levelTapping ={}\n",
    "errorStockList=[]\n",
    "for symbols in nifty50['Symbol']:\n",
    "    try:\n",
    "        instrument_token = next(item[\"instrument_token\"] for item in instruments if item[\"tradingsymbol\"] == symbols)      \n",
    "        try:\n",
    "            ltp = kite.ltp('NSE:'+symbols)\n",
    "            close_data = ltp['NSE:'+symbols]['last_price']\n",
    "        except:\n",
    "            print('error')\n",
    "        addpercentage,subpercentage = percentage(close_data,levelAllowance) #THIS VALUES REPRESENTS THE RANGE FROM LTP\n",
    "        sortedlist = first_shortlist(symbols,addpercentage,subpercentage,leveltap.iloc[i]['levels'],close_data)\n",
    "        i+=1\n",
    "        if sortedlist != None:\n",
    "            first_sort[instrument_token] = sortedlist\n",
    "    except StopIteration:\n",
    "        errorStockList.append(symbols)\n",
    "        continue\n",
    "  \n",
    "flattened_data = []\n",
    "for key,values in first_sort.items():\n",
    "    for symbol,prices in values.items():\n",
    "        price_set =  list(prices[0])\n",
    "        flattened_data.append([key,symbol,price_set,prices[1]])\n",
    "first_sorted_dataframe =  pd.DataFrame(flattened_data,columns=['token','symbol','levels','ltp'])\n",
    "first_sorted_csv = first_sorted_dataframe.to_csv(\"E:\\\\TRADING KARNAL\\\\OHLCcompare\\\\otherImp\\\\first_sorted_list_csv.csv\",index=False)\n",
    "csvFile= pd.read_csv('E:\\\\TRADING KARNAL\\\\OHLCcompare\\\\otherImp\\\\first_sorted_list_csv.csv')\n",
    "\n",
    "csvFile['levels'] = csvFile['levels'].apply(lambda x: ast.literal_eval(x) if pd.notnull(x) else [])\n",
    "df = csvFile.explode('levels')\n",
    "df[['level','taps']] = pd.DataFrame(df['levels'].tolist(), index = df.index)\n",
    "df=df.drop(columns='levels')\n",
    "\n",
    "df = df.sort_values(by='taps', ascending=False)\n",
    "if levelAllowance==1:\n",
    "    df.to_csv(f'E:\\\\TRADING KARNAL\\\\OHLCcompare\\\\tapList\\\\tapList{watchlist}_{timeframe}_positional_{today.strftime(\"%d_%m_%Y\")}.csv',index=False)\n",
    "else:\n",
    "    df.to_csv(f'E:\\\\TRADING KARNAL\\\\OHLCcompare\\\\tapList\\\\tapList{watchlist}_{timeframe}_intraday_{today.strftime(\"%d_%m_%y\")}_{today.strftime(\"%b_%d_%Y\")}.csv',index=False)\n",
    "    \n",
    "print(errorStockList)\n",
    "print(len(errorStockList))"
   ]
  }
 ],
 "metadata": {
  "kernelspec": {
   "display_name": "Python 3",
   "language": "python",
   "name": "python3"
  },
  "language_info": {
   "codemirror_mode": {
    "name": "ipython",
    "version": 3
   },
   "file_extension": ".py",
   "mimetype": "text/x-python",
   "name": "python",
   "nbconvert_exporter": "python",
   "pygments_lexer": "ipython3",
   "version": "3.11.9"
  }
 },
 "nbformat": 4,
 "nbformat_minor": 2
}
