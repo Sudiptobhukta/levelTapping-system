{
 "cells": [
  {
   "cell_type": "code",
   "execution_count": 17,
   "metadata": {},
   "outputs": [],
   "source": [
    "from kiteconnect import KiteConnect\n",
    "from kiteconnect import KiteTicker\n",
    "import secret\n",
    "\n",
    "api_key = secret.api_key\n",
    "api_secret = secret.api_secret\n",
    "\n",
    "kite = KiteConnect(api_key=api_key)"
   ]
  },
  {
   "cell_type": "code",
   "execution_count": 18,
   "metadata": {},
   "outputs": [
    {
     "name": "stdout",
     "output_type": "stream",
     "text": [
      "https://kite.zerodha.com/connect/login?api_key=x5ugrx91yexerba1&v=3\n"
     ]
    }
   ],
   "source": [
    "print(kite.login_url())"
   ]
  },
  {
   "cell_type": "code",
   "execution_count": 19,
   "metadata": {},
   "outputs": [
    {
     "name": "stdout",
     "output_type": "stream",
     "text": [
      "Aj1HPjcRZTAYWsdxLBtMhizOQBv3hUVY\n"
     ]
    }
   ],
   "source": [
    "data = kite.generate_session(\"6gjipNAUJb7ahHgNu3o3CRG9m3DIytjI\", api_secret=api_secret)\n",
    "kite.set_access_token(data[\"access_token\"])\n",
    "access_token = data[\"access_token\"]\n",
    "kws = KiteTicker(api_key, access_token)\n",
    "print(data[\"access_token\"])"
   ]
  },
  {
   "cell_type": "code",
   "execution_count": 54,
   "metadata": {},
   "outputs": [],
   "source": [
    "def find_neighbour(sorted_data,compare_num):\n",
    "    lower_neighbors = []\n",
    "    higher_neighbors = []\n",
    "    \n",
    "    for num in sorted_data:\n",
    "        if num < compare_num:\n",
    "            lower_neighbors.append(num)\n",
    "        elif num > compare_num:\n",
    "            higher_neighbors.append(num)\n",
    "\n",
    "    # Get first, second, and third lower neighbors (if available)\n",
    "    first_lower = lower_neighbors[-1] if len(lower_neighbors) > 0 else None\n",
    "    second_lower = lower_neighbors[-2] if len(lower_neighbors) > 1 else None\n",
    "    third_lower = lower_neighbors[-3] if len(lower_neighbors) > 2 else None\n",
    "\n",
    "    # Get first, second, and third higher neighbors (if available)\n",
    "    first_higher = higher_neighbors[0] if len(higher_neighbors) > 0 else None\n",
    "    second_higher = higher_neighbors[1] if len(higher_neighbors) > 1 else None\n",
    "    third_higher = higher_neighbors[2] if len(higher_neighbors) > 2 else None\n",
    "\n",
    "    return first_lower,second_lower,third_lower,first_higher,second_higher,third_higher\n"
   ]
  },
  {
   "cell_type": "code",
   "execution_count": 41,
   "metadata": {},
   "outputs": [],
   "source": [
    "def find_low_neighbor(sorted_data,compare_num):\n",
    "    neighbourLow = None\n",
    "    for num in sorted_data:\n",
    "        if num < compare_num:\n",
    "            neighbourLow =  num\n",
    "        else: break\n",
    "    return neighbourLow"
   ]
  },
  {
   "cell_type": "code",
   "execution_count": 58,
   "metadata": {},
   "outputs": [],
   "source": [
    "def percentage(close_price,percent_value):\n",
    "    percnt = (close_price/100)*percent_value\n",
    "    addprcntge = close_price+percnt\n",
    "    subprcntge = close_price-percnt\n",
    "    return addprcntge,subprcntge"
   ]
  },
  {
   "cell_type": "code",
   "execution_count": 75,
   "metadata": {},
   "outputs": [],
   "source": [
    "def comparingLtp(stockLTP,neighbourList):\n",
    "    stockList = []\n",
    "    addpercentage,subpercentage = percentage(stockLTP,1)\n",
    "    print(addpercentage,subpercentage)\n",
    "    for num in neighbourList:\n",
    "        if subpercentage <= num <= addpercentage:\n",
    "            stockList.append(num)\n",
    "    if stockList: return stockList"
   ]
  },
  {
   "cell_type": "code",
   "execution_count": null,
   "metadata": {},
   "outputs": [
    {
     "name": "stdout",
     "output_type": "stream",
     "text": [
      "4003.1855 3923.9145000000003\n",
      "{'TCS': [3963.55, [3989.9], 4112.4, [4043.0, 3989.9, 3913.25, 4254.75, 4494.9, 4592.25], np.float64(4112.4)]}\n"
     ]
    },
    {
     "name": "stderr",
     "output_type": "stream",
     "text": [
      "C:\\Users\\91965\\AppData\\Local\\Temp\\ipykernel_3100\\3597938622.py:18: UserWarning: Converting to PeriodArray/Index representation will drop timezone information.\n",
      "  df['date'] = pd.to_datetime(df['date']).dt.to_period('M') # WE MADE CHANGES FORM 'M' TO 'W' WHICH CONVERTED INTO WEEKS FROM MONTHS\n"
     ]
    }
   ],
   "source": [
    "import pandas as pd\n",
    "import os\n",
    "import json\n",
    "from datetime import date\n",
    "\n",
    "stockDict = dict()\n",
    "stock =  pd.read_csv(f\"watchList\\\\Weekly Doji.csv\")\n",
    "leveltap = pd.read_csv(f\"otherImp\\\\M\\\\Weekly Doji.csv\")\n",
    "instruments = kite.instruments(\"NSE\")\n",
    "symbol = stock['Symbol'][5]\n",
    "\n",
    "to_date = date.today()\n",
    "from_date = \"2019-10-01\"\n",
    "instrument_token = next(item[\"instrument_token\"] for item in instruments if item[\"tradingsymbol\"] == symbol)\n",
    "data = kite.historical_data(instrument_token,from_date,to_date,\"day\")\n",
    "df = pd.DataFrame(data)\n",
    "\n",
    "df['date'] = pd.to_datetime(df['date']).dt.to_period('M') # WE MADE CHANGES FORM 'M' TO 'W' WHICH CONVERTED INTO WEEKS FROM MONTHS\n",
    "monthly_data = df.groupby('date').agg({\n",
    "    'open': 'first',\n",
    "    'high': 'max',\n",
    "    'low': 'min',\n",
    "    'close': 'last',\n",
    "    'volume': 'sum'\n",
    "}).reset_index()\n",
    "\n",
    "last_month = len(monthly_data)-2\n",
    "close_data = monthly_data['close'][last_month]\n",
    "levels = leveltap['levels'][5]\n",
    "data = json.loads(levels)\n",
    "sorted_data =  sorted(map(float,data.keys()))\n",
    "first_lower,second_lower,third_lower,first_higher,second_higher,third_higher = find_neighbour(sorted_data,close_data)   \n",
    "ltp = kite.ltp('NSE:'+symbol)\n",
    "stockLTP = ltp['NSE:'+symbol]['last_price']\n",
    "addprecentages,subpercentage = percentage(stockLTP,1)\n",
    "stockList = comparingLtp(stockLTP,[second_lower,third_lower,second_higher,third_higher])\n",
    "if stockList:\n",
    "    stockDict[symbol] = [stockLTP, stockList, float(close_data),[first_lower,second_lower,third_lower,first_higher,second_higher,third_higher]]\n",
    "    print(stockDict)\n",
    "\n",
    "\n",
    "\n",
    "\n",
    "\n",
    "\n",
    "\n",
    "\n",
    "# print(leveltap)"
   ]
  }
 ],
 "metadata": {
  "kernelspec": {
   "display_name": "Python 3",
   "language": "python",
   "name": "python3"
  },
  "language_info": {
   "codemirror_mode": {
    "name": "ipython",
    "version": 3
   },
   "file_extension": ".py",
   "mimetype": "text/x-python",
   "name": "python",
   "nbconvert_exporter": "python",
   "pygments_lexer": "ipython3",
   "version": "3.11.9"
  }
 },
 "nbformat": 4,
 "nbformat_minor": 2
}
