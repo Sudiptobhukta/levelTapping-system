{
 "cells": [
  {
   "cell_type": "code",
   "execution_count": 8,
   "metadata": {},
   "outputs": [],
   "source": [
    "import pandas as pd\n",
    "import os\n",
    "import json\n",
    "from datetime import date\n",
    "import datetime\n",
    "now =  datetime.datetime.now()"
   ]
  },
  {
   "cell_type": "code",
   "execution_count": 1,
   "metadata": {},
   "outputs": [],
   "source": [
    "from kiteconnect import KiteConnect\n",
    "from kiteconnect import KiteTicker\n",
    "import secret\n",
    "\n",
    "api_key = secret.api_key\n",
    "api_secret = secret.api_secret\n",
    "\n",
    "kite = KiteConnect(api_key=api_key)"
   ]
  },
  {
   "cell_type": "code",
   "execution_count": 2,
   "metadata": {},
   "outputs": [
    {
     "name": "stdout",
     "output_type": "stream",
     "text": [
      "https://kite.zerodha.com/connect/login?api_key=x5ugrx91yexerba1&v=3\n"
     ]
    }
   ],
   "source": [
    "print(kite.login_url())"
   ]
  },
  {
   "cell_type": "code",
   "execution_count": 3,
   "metadata": {},
   "outputs": [
    {
     "name": "stdout",
     "output_type": "stream",
     "text": [
      "RuQ5t5goLFnT6zy9SUNiLOO9GEjVLJIK\n"
     ]
    }
   ],
   "source": [
    "data = kite.generate_session(\"NuISoeflbRJshBeEPRh6U39HhogdyNDo\", api_secret=api_secret)\n",
    "kite.set_access_token(data[\"access_token\"])\n",
    "access_token = data[\"access_token\"]\n",
    "kws = KiteTicker(api_key, access_token)\n",
    "print(data[\"access_token\"])"
   ]
  },
  {
   "cell_type": "code",
   "execution_count": 4,
   "metadata": {},
   "outputs": [],
   "source": [
    "def find_neighbour(sorted_data,compare_num):\n",
    "    lower_neighbors = []\n",
    "    higher_neighbors = []\n",
    "    \n",
    "    for num in sorted_data:\n",
    "        if num < compare_num:\n",
    "            lower_neighbors.append(num)\n",
    "        elif num > compare_num:\n",
    "            higher_neighbors.append(num)\n",
    "\n",
    "    # Get first, second, and third lower neighbors (if available)\n",
    "    first_lower = lower_neighbors[-1] if len(lower_neighbors) > 0 else None\n",
    "    second_lower = lower_neighbors[-2] if len(lower_neighbors) > 1 else None\n",
    "    third_lower = lower_neighbors[-3] if len(lower_neighbors) > 2 else None\n",
    "\n",
    "    # Get first, second, and third higher neighbors (if available)\n",
    "    first_higher = higher_neighbors[0] if len(higher_neighbors) > 0 else None\n",
    "    second_higher = higher_neighbors[1] if len(higher_neighbors) > 1 else None\n",
    "    third_higher = higher_neighbors[2] if len(higher_neighbors) > 2 else None\n",
    "\n",
    "    return first_lower,second_lower,third_lower,first_higher,second_higher,third_higher\n"
   ]
  },
  {
   "cell_type": "code",
   "execution_count": null,
   "metadata": {},
   "outputs": [],
   "source": []
  },
  {
   "cell_type": "code",
   "execution_count": 5,
   "metadata": {},
   "outputs": [],
   "source": [
    "def percentage(close_price,percent_value):\n",
    "    percnt = (close_price/100)*percent_value\n",
    "    addprcntge = close_price+percnt\n",
    "    subprcntge = close_price-percnt\n",
    "    return addprcntge,subprcntge"
   ]
  },
  {
   "cell_type": "code",
   "execution_count": 6,
   "metadata": {},
   "outputs": [],
   "source": [
    "def comparingLtp(stockLTP,neighbourList):\n",
    "    stockList = []\n",
    "    \n",
    "    addpercentage,subpercentage = percentage(stockLTP,2)\n",
    "    \n",
    "    for num in neighbourList:\n",
    "        try:\n",
    "            if subpercentage <= num <= addpercentage:\n",
    "                stockList.append(num)\n",
    "        except: continue\n",
    "    if stockList: \n",
    "\n",
    "        return stockList"
   ]
  },
  {
   "cell_type": "code",
   "execution_count": null,
   "metadata": {},
   "outputs": [],
   "source": [
    "watchlist = \"Nifty200.csv\"\n",
    "timeframe = \"M\"\n",
    "stock_dict = dict()\n",
    "stock =  pd.read_csv(f\"watchList\\\\{watchlist}\")\n",
    "leveltap = pd.read_csv(f\"otherImp\\\\{timeframe}\\\\{watchlist}\")\n",
    "instruments = kite.instruments(\"NSE\")\n",
    "symbols = stock['Symbol']\n",
    "count = 0 \n",
    "for symbol in symbols:\n",
    "    \n",
    "    to_date = date.today()\n",
    "    from_date = \"2019-10-01\"\n",
    "    try:\n",
    "        instrument_token = next(item[\"instrument_token\"] for item in instruments if item[\"tradingsymbol\"] == symbol)\n",
    "        data = kite.historical_data(instrument_token,from_date,to_date,\"day\")\n",
    "        df = pd.DataFrame(data)\n",
    "\n",
    "        df['date'] = pd.to_datetime(df['date']).dt.to_period('M') # WE MADE CHANGES FORM 'M' TO 'W' WHICH CONVERTED INTO WEEKS FROM MONTHS\n",
    "        monthly_data = df.groupby('date').agg({\n",
    "            'open': 'first',\n",
    "            'high': 'max',\n",
    "            'low': 'min',\n",
    "            'close': 'last',\n",
    "            'volume': 'sum'\n",
    "        }).reset_index()\n",
    "\n",
    "        last_month = len(monthly_data)-2\n",
    "        close_data = monthly_data['close'][last_month]\n",
    "        level = leveltap['levels'][count]\n",
    "        count+=1\n",
    "        data = json.loads(level)\n",
    "        sorted_data =  sorted(map(float,data.keys()))\n",
    "       \n",
    "        first_lower,second_lower,third_lower,first_higher,second_higher,third_higher = find_neighbour(sorted_data,close_data)  \n",
    "        stock_dict[symbol] =  [first_lower,second_lower,third_lower,first_higher,second_higher,third_higher,close_data]\n",
    "    except:continue\n",
    "\n",
    "if stock_dict:\n",
    "    df = pd.DataFrame.from_dict(stock_dict,orient='index').reset_index()\n",
    "    df.columns = ['stocks','first_lower','second_lower','third_lower','first_higher','second_higher','third_higher','close_data']\n",
    "    df.to_csv(f\"MonthlyCloseLevels\\\\{timeframe}\\\\{watchlist}\",index=False)\n",
    "    "
   ]
  },
  {
   "cell_type": "code",
   "execution_count": 22,
   "metadata": {},
   "outputs": [],
   "source": [
    "def monthlylevels(timeframe,watchlist):\n",
    "    stockDict = dict()\n",
    "    watchlist = f\"MonthlyCloseLevels\\\\{timeframe}\\\\{watchlist}\"\n",
    "    stockname =  pd.read_csv(watchlist)\n",
    "    count= 0\n",
    "    for index,symbol in stockname.iterrows():\n",
    "        ltp = kite.ltp('NSE:'+symbol['stocks'])\n",
    "        stockLTP = ltp['NSE:'+symbol['stocks']]['last_price']\n",
    "   \n",
    "        stockList = comparingLtp(stockLTP,[symbol['second_lower'],symbol['third_lower'],symbol['second_higher'],symbol['third_higher']])\n",
    "    \n",
    "        if stockList:\n",
    "            stockDict[symbol['stocks']] = [stockLTP, stockList, float(symbol['close_data']),[symbol['first_lower'],symbol['second_lower'],symbol['third_lower'],symbol['first_higher'],symbol['second_higher'],symbol['third_higher']]] \n",
    "    if stockDict:\n",
    "        df = pd.DataFrame.from_dict(stockDict,orient='index').reset_index()\n",
    "        \n",
    "        df.columns = ['stocks','ltp','taps','closedata','levels']\n",
    "        df['date'] = date.today()\n",
    "        df['time'] =  now.strftime(\"%Y%m%d_%H%M%S\")\n",
    "        try:\n",
    "            df.to_excel(f\"monthlyRev\\\\monthlyRev_{now.strftime('%Y%m%d_%H%M%S')}.xlsx\",index=False)\n",
    "            print('Done')\n",
    "        except:\n",
    "            print('Error')\n",
    "        \n"
   ]
  },
  {
   "cell_type": "code",
   "execution_count": 23,
   "metadata": {},
   "outputs": [
    {
     "name": "stdout",
     "output_type": "stream",
     "text": [
      "Done\n"
     ]
    }
   ],
   "source": [
    "def submit_form():\n",
    "    watchlist = watchlist_var.get()\n",
    "    timeframe = timeframe_var.get()\n",
    "    monthlylevels(timeframe,watchlist)\n",
    "    \n",
    "import tkinter as tk\n",
    "from tkinter import ttk\n",
    "import os\n",
    "\n",
    "watchListDirec = \"watchList\"\n",
    "li=[]\n",
    "\n",
    "for name in os.listdir(watchListDirec):\n",
    "    li.append(name)\n",
    "\n",
    "# Create the main window\n",
    "root = tk.Tk()\n",
    "root.title(\"Trading Watchlist Form\")\n",
    "\n",
    "# Watchlist Label and Dropdown\n",
    "watchlist_label = ttk.Label(root, text=\"Select Watchlist:\")\n",
    "watchlist_label.pack(pady=5)\n",
    "watchlist_var = tk.StringVar()\n",
    "watchlist_menu = ttk.Combobox(root, textvariable=watchlist_var, values=li)\n",
    "watchlist_menu.pack(pady=5)\n",
    "\n",
    "# Timeframe Label and Dropdown\n",
    "timeframe_label = ttk.Label(root, text=\"Select Timeframe:\")\n",
    "timeframe_label.pack(pady=5)\n",
    "timeframe_options = [\"M\",\"W\"]\n",
    "timeframe_var = tk.StringVar(value=timeframe_options[0])\n",
    "timeframe_menu = ttk.Combobox(root, textvariable=timeframe_var, values=timeframe_options)\n",
    "timeframe_menu.pack(pady=5)\n",
    "\n",
    "# Submit Button\n",
    "submit_button = ttk.Button(root, text=\"Submit\", command=submit_form)\n",
    "submit_button.pack(pady=20)\n",
    "\n",
    "# Run the main loop\n",
    "root.mainloop()"
   ]
  }
 ],
 "metadata": {
  "kernelspec": {
   "display_name": "Python 3",
   "language": "python",
   "name": "python3"
  },
  "language_info": {
   "codemirror_mode": {
    "name": "ipython",
    "version": 3
   },
   "file_extension": ".py",
   "mimetype": "text/x-python",
   "name": "python",
   "nbconvert_exporter": "python",
   "pygments_lexer": "ipython3",
   "version": "3.11.9"
  }
 },
 "nbformat": 4,
 "nbformat_minor": 2
}
